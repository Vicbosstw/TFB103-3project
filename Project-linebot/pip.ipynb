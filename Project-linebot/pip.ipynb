{
 "cells": [
  {
   "cell_type": "code",
   "execution_count": 1,
   "source": [
    "!pip install pymongo"
   ],
   "outputs": [
    {
     "output_type": "stream",
     "name": "stdout",
     "text": [
      "Collecting pymongo\n",
      "  Using cached pymongo-3.12.0-cp38-cp38-win_amd64.whl (397 kB)\n",
      "Installing collected packages: pymongo\n",
      "Successfully installed pymongo-3.12.0\n"
     ]
    }
   ],
   "metadata": {}
  }
 ],
 "metadata": {
  "orig_nbformat": 4,
  "language_info": {
   "name": "python",
   "version": "3.8.11",
   "mimetype": "text/x-python",
   "codemirror_mode": {
    "name": "ipython",
    "version": 3
   },
   "pygments_lexer": "ipython3",
   "nbconvert_exporter": "python",
   "file_extension": ".py"
  },
  "kernelspec": {
   "name": "python3",
   "display_name": "Python 3.8.11 64-bit ('python_azure': conda)"
  },
  "interpreter": {
   "hash": "c37cc4f17cd2b6b52f915e8be5a7fc0e36b6c1d250ba3cca00d3de4499f1b546"
  }
 },
 "nbformat": 4,
 "nbformat_minor": 2
}